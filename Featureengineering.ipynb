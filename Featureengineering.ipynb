!pip install pandas spacy openpyxl
!python -m spacy download en_core_web_trf

import pandas as pd
import spacy
import re

nlp = spacy.load("en_core_web_trf")

input_file = "WSP-UPR-Metros (1).xlsx"
df = pd.read_excel(input_file)

TOPIC_KEYWORDS = [
    "flammability", "combustibility", "carbonization", "melting", "dripping",
    "ignition", "resistance", "fire alarm", "deformation", "burning", "smoke",
    "temperature", "test method", "ISO", "heating rate", "ethanol", "alcohol",
    "non-metallic", "passenger car", "radiant heat", "gangway door",
    "rolling stock", "subways", "shinkansen", "suspended railway",
    "monorail", "guided railways", "magnetic levitation", "superconducting",
    "ventilation", "fire extinguisher", "ministerial ordinance"
]

def extract_entities(text):
    doc = nlp(str(text))
    allowed_labels = {"ORG", "GPE", "LOC", "FAC", "PRODUCT", "LAW"}
    entities = [
        ent.text.strip()
        for ent in doc.ents
        if ent.label_ in allowed_labels and not ent.text.strip().isdigit()
    ]
    return list(set(entities))

def extract_topics(text):
    found = []
    for word in TOPIC_KEYWORDS:
        if re.search(rf"\b{re.escape(word)}\b", str(text), re.IGNORECASE):
            found.append(word.lower())
    return list(set(found))

def extract_quantities(text):
    text = str(text)
    pattern = r"\b\d+(\.\d+)?\s?(°C|°F|mm|cm|m|kg|g|mg|µg|L|ml|hours?|minutes?|secs?|seconds?|Hz|kW|W|V|mA|A|N|MPa|bar|%)\b"
    matches = re.findall(pattern, text, re.IGNORECASE)
    # Each match is a tuple, take only the full matched string
    full_matches = [m[0] if isinstance(m, tuple) else m for m in re.finditer(pattern, text)]
    return [m.group() for m in full_matches]

# Apply functions
df["Entities"] = df["Text"].apply(extract_entities)
df["Topics"] = df["Text"].apply(extract_topics)
df["Quantities"] = df["Text"].apply(extract_quantities)

# Save result
output_file = "output_with_entities_topics_quantities.xlsx"
df.to_excel(output_file, index=False)
print(f"✅ Output saved to: {output_file}")


with different model(where the accuracy is less compare to the above model)

!pip install pandas openpyxl spacy
!python -m spacy download en_core_web_sm


import pandas as pd
import spacy

# Load the spaCy English model
nlp = spacy.load("en_core_web_sm")
import pandas as pd
import spacy

# Load the spaCy English model
nlp = spacy.load("en_core_web_sm")

# Load the Excel file
df = pd.read_excel("14.xlsx")
text_column = 'Text'

# Define a function to extract entities from one row of text
def extract_entities(text):
    doc = nlp(str(text))
    entities = [ent.text.strip() for ent in doc.ents if ent.text.strip()]
    unique_entities = list(set(entities))
    return entities, unique_entities

# Apply the function row by row
df['entities'], df['unique_entities'] = zip(*df[text_column].apply(extract_entities))

# Save the modified DataFrame to a new Excel file
df.to_excel("output_with_entities.xlsx", index=False)

print("Done! Extracted entities row by row and saved to 'output_with_entities.xlsx'")
# Define a function to extract entities from one row of text
def extract_entities(text):
    doc = nlp(str(text))
    entities = [ent.text.strip() for ent in doc.ents if ent.text.strip()]
    unique_entities = list(set(entities))
    return entities, unique_entities

# Apply the function row by row
df['entities'], df['unique_entities'] = zip(*df[text_column].apply(extract_entities))

# Save the modified DataFrame to a new Excel file
df.to_excel("output_with_entities.xlsx", index=False)

print("Done! Extracted entities row by row and saved to 'output_with_entities.xlsx'")

