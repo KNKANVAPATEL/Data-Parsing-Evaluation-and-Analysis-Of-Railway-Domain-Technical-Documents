!pip install pdfplumber openpyxl
!pip install pymupdf
import fitz  # PyMuPDF

import re
import pandas as pd
from google.colab import files

def extract_paragraphs_from_pdf(pdf_path):
    data = []
    heading_pattern = re.compile(r'^[A-Z][A-Z0-9 ]{3,}$')
    current_heading = None
    current_text = []
    serial_no = 1

    doc = fitz.open(pdf_path)
    for page_no in range(len(doc)):
        page = doc.load_page(page_no)
        text = page.get_text()
        lines = text.split('\n')

        for line in lines:
            line = line.strip()
            if heading_pattern.match(line):
                if current_heading and current_text:
                    paragraph = ' '.join(current_text).strip()
                    data.append([serial_no, page_no + 1, current_heading, paragraph])
                    serial_no += 1
                current_heading = line
                current_text = []
            else:
                current_text.append(line)


        if current_heading and current_text:
            paragraph = ' '.join(current_text).strip()
            data.append([serial_no, page_no + 1, current_heading, paragraph])
            serial_no += 1
            current_text = []

    return data

def save_to_excel(data, output_filename="parsed_output.xlsx"):
    df = pd.DataFrame(data, columns=["Sl No", "Page No", "Heading", "Text"])
    df.to_excel(output_filename, index=False)
    return output_filename


uploaded = files.upload()
pdf_filename = list(uploaded.keys())[0]

data = extract_paragraphs_from_pdf(pdf_filename)
output_file = save_to_excel(data)
files.download(output_file)
